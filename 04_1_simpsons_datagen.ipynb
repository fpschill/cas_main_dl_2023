{
 "cells": [
  {
   "cell_type": "code",
   "execution_count": null,
   "metadata": {
    "id": "CLeRfAvImGyK",
    "pycharm": {
     "is_executing": true,
     "name": "#%%\n"
    },
    "scrolled": false
   },
   "outputs": [],
   "source": [
    "import numpy as np\n",
    "import matplotlib.pyplot as plt\n",
    "%matplotlib inline\n",
    "import os\n",
    "import pandas as pd\n",
    "import re\n",
    "import glob\n",
    "from tqdm.notebook import tqdm\n",
    "import skimage\n",
    "import skimage.transform\n",
    "from sklearn.model_selection import train_test_split\n",
    "from tensorflow.keras.utils import to_categorical"
   ]
  },
  {
   "cell_type": "code",
   "execution_count": null,
   "metadata": {
    "id": "qv5cEAblmGyX",
    "pycharm": {
     "is_executing": true,
     "name": "#%%\n"
    },
    "scrolled": false
   },
   "outputs": [],
   "source": [
    "# natural sorting\n",
    "def natural_key(string_):\n",
    "    \"\"\"See http://www.codinghorror.com/blog/archives/001018.html\"\"\"\n",
    "    return [int(s) if s.isdigit() else s for s in re.split(r'(\\d+)', string_)]"
   ]
  },
  {
   "cell_type": "markdown",
   "metadata": {
    "id": "Uj3NQ0j1vyzb",
    "pycharm": {
     "name": "#%% md\n"
    }
   },
   "source": [
    "####  Setup\n",
    "\n"
   ]
  },
  {
   "cell_type": "code",
   "execution_count": null,
   "metadata": {
    "id": "u8iQqzBg2Yi_"
   },
   "outputs": [],
   "source": [
    "import os,sys\n",
    "\n",
    "if \"google.colab\" in sys.modules:\n",
    "    %pip install wget\n",
    "    \n",
    "import wget,zipfile\n",
    "\n",
    "if \"labsetup_run\" not in locals() or labsetup_run:\n",
    "\n",
    "    print(\"running setup ...\")\n",
    "\n",
    "    #if \"google.colab\" in sys.modules:\n",
    "    #    print(\"colab\")\n",
    "    #else:\n",
    "    #    print(\"local\")\n",
    "\n",
    "    # download data.zip from shared google drive\n",
    "    if not(os.path.isfile(\"data.zip\")): \n",
    "        filename=wget.download(\"https://drive.google.com/uc?export=download&confirm=yes&id=1dkSV2oL8Ua1SDmzVvtGkyQ0LGQ6VpUIy\")\n",
    "    # unpack it\n",
    "    if not(os.path.isdir(\"./data\")):\n",
    "        zf = zipfile.ZipFile(os.path.join(\".\",\"data.zip\"), \"r\")\n",
    "        zf.extractall()\n",
    "                          \n",
    "    # allow \"hot-reloading\" of modules\n",
    "    %load_ext autoreload\n",
    "    %autoreload 2\n",
    "    # needed for inline plots in some contexts\n",
    "    %matplotlib inline\n",
    "\n",
    "    print(\"done.\")\n",
    "    labsetup_run = True  # change to True re-run setup\n",
    "else:\n",
    "    print(\"setup already run.\")"
   ]
  },
  {
   "cell_type": "markdown",
   "metadata": {},
   "source": [
    "#### Open Data"
   ]
  },
  {
   "cell_type": "code",
   "execution_count": null,
   "metadata": {
    "id": "OHgkbwYKmZ1c",
    "pycharm": {
     "name": "#%%\n"
    },
    "scrolled": false
   },
   "outputs": [],
   "source": [
    "#List all folders in path and sort them\n",
    "Ordner=np.asarray(sorted(glob.glob(r\"./data/simpson_data_orig/simpsons_dataset_train/*\"), key=natural_key))\n",
    "print(Ordner[0:5])\n"
   ]
  },
  {
   "cell_type": "code",
   "execution_count": null,
   "metadata": {
    "id": "qblxh_UAmGyk",
    "pycharm": {
     "name": "#%%\n"
    },
    "scrolled": false
   },
   "outputs": [],
   "source": [
    "Pfade=np.empty(0)\n",
    "for i in range(0,len(Ordner)):\n",
    "    Pfade = np.append(Pfade,(sorted(glob.glob(Ordner[i]+\"/*jpg\"), key=natural_key)))"
   ]
  },
  {
   "cell_type": "code",
   "execution_count": null,
   "metadata": {
    "id": "sePZl0Lfmx77",
    "pycharm": {
     "name": "#%%\n"
    },
    "scrolled": false
   },
   "outputs": [],
   "source": [
    "Pfade"
   ]
  },
  {
   "cell_type": "code",
   "execution_count": null,
   "metadata": {
    "id": "rT1RLGoamGyn",
    "pycharm": {
     "name": "#%%\n"
    },
    "scrolled": false
   },
   "outputs": [],
   "source": [
    "label=np.array([Pfade[i].replace(\"\\\\\",\"/\").split(\"/\")[4] for i in range(0,len(Pfade))])\n",
    "label"
   ]
  },
  {
   "cell_type": "code",
   "execution_count": null,
   "metadata": {
    "id": "IzG-SlGdmGyr",
    "pycharm": {
     "name": "#%%\n"
    },
    "scrolled": false
   },
   "outputs": [],
   "source": [
    "Data=pd.DataFrame(np.column_stack([Pfade,label]),columns=[\"Bild_Pfad\",\"label\"])\n",
    "Data"
   ]
  },
  {
   "cell_type": "code",
   "execution_count": null,
   "metadata": {
    "id": "tjJMmoadmGyw",
    "pycharm": {
     "name": "#%%\n"
    },
    "scrolled": false
   },
   "outputs": [],
   "source": [
    "np.unique(Data[\"label\"],return_counts=True)[1]"
   ]
  },
  {
   "cell_type": "code",
   "execution_count": null,
   "metadata": {
    "id": "w8g3OWj-xGK0",
    "pycharm": {
     "name": "#%%\n"
    },
    "scrolled": false
   },
   "outputs": [],
   "source": [
    "np.unique(Data[\"label\"],return_counts=True)[0]"
   ]
  },
  {
   "cell_type": "code",
   "execution_count": null,
   "metadata": {
    "id": "0v-lr8NqmGy0",
    "pycharm": {
     "name": "#%%\n"
    },
    "scrolled": false
   },
   "outputs": [],
   "source": [
    "idx=np.unique(Data[\"label\"],return_counts=True)[1]>500\n",
    "train_characters=np.unique(Data[\"label\"],return_counts=True)[0][idx]"
   ]
  },
  {
   "cell_type": "code",
   "execution_count": null,
   "metadata": {
    "id": "YxYgoIxDmGy4",
    "pycharm": {
     "name": "#%%\n"
    },
    "scrolled": false
   },
   "outputs": [],
   "source": [
    "train_idx=np.in1d(Data[\"label\"].values,train_characters)\n",
    "Data=Data.iloc[train_idx]"
   ]
  },
  {
   "cell_type": "code",
   "execution_count": null,
   "metadata": {
    "id": "Ft7SNSnzmGy8",
    "pycharm": {
     "name": "#%%\n"
    },
    "scrolled": false
   },
   "outputs": [],
   "source": [
    "klasse=np.zeros((len(Data[\"label\"])),dtype=\"uint8\")\n",
    "for i in range(0,len(np.unique(Data[\"label\"]))):\n",
    "    klasse[Data[\"label\"]==np.unique(Data[\"label\"])[i]]=i"
   ]
  },
  {
   "cell_type": "code",
   "execution_count": null,
   "metadata": {
    "id": "5WPKBkkBmGzC",
    "pycharm": {
     "name": "#%%\n"
    },
    "scrolled": false
   },
   "outputs": [],
   "source": [
    "Data = Data.assign(Klasse=klasse)"
   ]
  },
  {
   "cell_type": "code",
   "execution_count": null,
   "metadata": {
    "id": "-wyw_iMSmGzH",
    "pycharm": {
     "name": "#%%\n"
    },
    "scrolled": false
   },
   "outputs": [],
   "source": [
    "Data=Data.reset_index(drop=True)\n",
    "Data"
   ]
  },
  {
   "cell_type": "code",
   "execution_count": null,
   "metadata": {
    "id": "EYBml7dHmGzL",
    "pycharm": {
     "name": "#%%\n"
    },
    "scrolled": false
   },
   "outputs": [],
   "source": [
    "img=plt.imread(Data[\"Bild_Pfad\"][0])\n",
    "plt.imshow(img)\n",
    "plt.show()\n",
    "img=np.array(skimage.transform.resize(img, (80,80), preserve_range=True),dtype=\"uint8\")\n",
    "plt.imshow(img)\n",
    "plt.show()\n"
   ]
  },
  {
   "cell_type": "code",
   "execution_count": null,
   "metadata": {
    "id": "FTqggnGqmGzQ",
    "pycharm": {
     "name": "#%%\n"
    },
    "scrolled": false
   },
   "outputs": [],
   "source": [
    "size=80\n",
    "X_data = np.zeros((len(Data),size,size,3),dtype=\"uint8\")\n",
    "print(X_data.shape)\n",
    "for i in tqdm(range(0,len(X_data))):\n",
    "    img = plt.imread(Data[\"Bild_Pfad\"][i])\n",
    "    img_resized = np.array(skimage.transform.resize(img, (size,size), preserve_range=True),dtype=\"uint8\")\n",
    "    X_data[i,:,:,:] = img_resized\n"
   ]
  },
  {
   "cell_type": "code",
   "execution_count": null,
   "metadata": {
    "id": "QoEB9_0umGzW",
    "pycharm": {
     "name": "#%%\n"
    },
    "scrolled": false
   },
   "outputs": [],
   "source": [
    "Y_data=to_categorical(Data[\"Klasse\"],max(Data[\"Klasse\"])+1)"
   ]
  },
  {
   "cell_type": "code",
   "execution_count": null,
   "metadata": {
    "id": "uG8cz6WAmGzb",
    "pycharm": {
     "name": "#%%\n"
    },
    "scrolled": false
   },
   "outputs": [],
   "source": [
    "X_train, X_test, Y_train, Y_test = train_test_split(X_data, Y_data, test_size=0.2, random_state=54)\n",
    "X_train, X_val, Y_train, Y_val = train_test_split(X_train, Y_train, test_size=0.3, random_state=22)"
   ]
  },
  {
   "cell_type": "code",
   "execution_count": null,
   "metadata": {
    "id": "E4EAolNTmGzf",
    "pycharm": {
     "name": "#%%\n"
    },
    "scrolled": false
   },
   "outputs": [],
   "source": [
    "print(X_train.shape)\n",
    "print(X_val.shape)\n",
    "print(X_test.shape)"
   ]
  },
  {
   "cell_type": "code",
   "execution_count": null,
   "metadata": {
    "id": "U_iEYEwx6TTn",
    "pycharm": {
     "name": "#%%\n"
    },
    "scrolled": false
   },
   "outputs": [],
   "source": [
    "outdir=r\"./data/simpson_data\"\n",
    "if not os.path.exists(outdir):\n",
    "    os.mkdir(outdir)\n",
    "\n",
    "np.save(os.path.join(outdir,\"X_train.npy\"), X_train)\n",
    "np.save(os.path.join(outdir,\"X_val.npy\"), X_val)\n",
    "np.save(os.path.join(outdir,\"X_test.npy\"), X_test)\n",
    "\n",
    "np.save(os.path.join(outdir,\"Y_train.npy\"), Y_train)\n",
    "np.save(os.path.join(outdir,\"Y_val.npy\"), Y_val)\n",
    "np.save(os.path.join(outdir,\"Y_test.npy\"), Y_test)\n",
    "\n",
    "Data.to_csv(os.path.join(outdir,\"Data.csv\"),index=False)"
   ]
  },
  {
   "cell_type": "code",
   "execution_count": null,
   "metadata": {},
   "outputs": [],
   "source": []
  }
 ],
 "metadata": {
  "colab": {
   "collapsed_sections": [],
   "name": "04_1_simpsons_datagen.ipynb",
   "provenance": []
  },
  "kernelspec": {
   "display_name": "Python 3 (ipykernel)",
   "language": "python",
   "name": "python3"
  },
  "language_info": {
   "codemirror_mode": {
    "name": "ipython",
    "version": 3
   },
   "file_extension": ".py",
   "mimetype": "text/x-python",
   "name": "python",
   "nbconvert_exporter": "python",
   "pygments_lexer": "ipython3",
   "version": "3.9.13"
  }
 },
 "nbformat": 4,
 "nbformat_minor": 1
}
