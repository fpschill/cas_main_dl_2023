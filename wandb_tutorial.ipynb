{
  "cells": [
    {
      "cell_type": "markdown",
      "source": [
        "Adapted from https://docs.wandb.ai/tutorials/keras"
      ],
      "metadata": {
        "id": "UvLOyXvJA2MV"
      }
    },
    {
      "cell_type": "markdown",
      "metadata": {
        "id": "PrBNpTjXAUtc"
      },
      "source": [
        "<img src=\"http://wandb.me/logo-im-png\" width=\"400\" alt=\"Weights & Biases\" />\n",
        "\n",
        "<!--- @wandbcode{intro-colab-keras-metricslogger} -->"
      ]
    },
    {
      "cell_type": "markdown",
      "metadata": {
        "id": "tCWcHBYYAUtd"
      },
      "source": [
        "\n",
        "# Using Keras MetricsLogger in your Keras workflow"
      ]
    },
    {
      "cell_type": "markdown",
      "metadata": {
        "id": "8gNGMfiYAUte"
      },
      "source": [
        "\n",
        "Use Weights & Biases for machine learning experiment tracking, dataset versioning, and project collaboration.\n",
        "\n",
        "<img src=\"http://wandb.me/mini-diagram\" width=\"650\" alt=\"Weights & Biases\" />"
      ]
    },
    {
      "cell_type": "markdown",
      "metadata": {
        "id": "7VjdMgGbAUte"
      },
      "source": [
        "This colab notebook introduces the `WandbMetricsLogger` callback. Use this callback for [Experiment Tracking](https://docs.wandb.ai/guides/track). It will log your training and validation metrics along with system metrics to Weights and Biases.\n",
        "\n"
      ]
    },
    {
      "cell_type": "markdown",
      "metadata": {
        "id": "rHtI-0bZAUtf"
      },
      "source": [
        "# 🌴 Setup and Installation\n",
        "\n",
        "First, let us install the latest version of Weights and Biases. We will then authenticate this colab instance to use W&B."
      ]
    },
    {
      "cell_type": "code",
      "execution_count": 1,
      "metadata": {
        "id": "VqqFYW6KAUtf"
      },
      "outputs": [],
      "source": [
        "!pip install -qq -U wandb"
      ]
    },
    {
      "cell_type": "code",
      "execution_count": 13,
      "metadata": {
        "id": "KKEaWcQ-AUtg"
      },
      "outputs": [],
      "source": [
        "import os\n",
        "import numpy as np\n",
        "import tensorflow as tf\n",
        "from tensorflow.keras import layers\n",
        "from tensorflow.keras import models\n",
        "import tensorflow_datasets as tfds\n",
        "\n",
        "# Weights and Biases related imports\n",
        "import wandb\n",
        "from wandb.keras import WandbMetricsLogger\n",
        "from wandb.keras import WandbModelCheckpoint\n",
        "from wandb.keras import WandbEvalCallback"
      ]
    },
    {
      "cell_type": "markdown",
      "metadata": {
        "id": "SmLxwDkyAUth"
      },
      "source": [
        "If this is your first time using W&B or you are not logged in, the link that appears after running `wandb.login()` will take you to sign-up/login page. Signing up for a [free account](https://wandb.ai/signup) is as easy as a few clicks."
      ]
    },
    {
      "cell_type": "code",
      "execution_count": 3,
      "metadata": {
        "id": "kGDwuY-FAUth",
        "colab": {
          "base_uri": "https://localhost:8080/"
        },
        "outputId": "9bc489a5-f2df-46c9-9167-c5d6ceaa98af"
      },
      "outputs": [
        {
          "output_type": "stream",
          "name": "stderr",
          "text": [
            "\u001b[34m\u001b[1mwandb\u001b[0m: Currently logged in as: \u001b[33mscik\u001b[0m. Use \u001b[1m`wandb login --relogin`\u001b[0m to force relogin\n"
          ]
        },
        {
          "output_type": "execute_result",
          "data": {
            "text/plain": [
              "True"
            ]
          },
          "metadata": {},
          "execution_count": 3
        }
      ],
      "source": [
        "wandb.login()"
      ]
    },
    {
      "cell_type": "markdown",
      "metadata": {
        "id": "yWw1qS-FAUth"
      },
      "source": [
        "# 🌳 Hyperparameters\n",
        "\n",
        "Use of proper config system is a recommended best practice for reproducible machine learning. We can track the hyperparameters for every experiment using W&B. In this colab we will be using simple Python `dict` as our config system."
      ]
    },
    {
      "cell_type": "code",
      "execution_count": 4,
      "metadata": {
        "id": "3WYg6ASHAUti"
      },
      "outputs": [],
      "source": [
        "configs = dict(\n",
        "    num_classes = 10,\n",
        "    shuffle_buffer = 1024,\n",
        "    batch_size = 64,\n",
        "    image_size = 28,\n",
        "    image_channels = 1,\n",
        "    earlystopping_patience = 3,\n",
        "    learning_rate = 1e-3,\n",
        "    epochs = 10\n",
        ")"
      ]
    },
    {
      "cell_type": "markdown",
      "metadata": {
        "id": "AYkHMWZtAUti"
      },
      "source": [
        "# 🍁 Dataset\n",
        "\n",
        "In this colab, we will be using [CIFAR100](https://www.tensorflow.org/datasets/catalog/cifar100) dataset from TensorFlow Dataset catalog. We aim to build a simple image classification pipeline using TensorFlow/Keras."
      ]
    },
    {
      "cell_type": "code",
      "execution_count": 5,
      "metadata": {
        "id": "uRv0K9GUAUtj"
      },
      "outputs": [],
      "source": [
        "train_ds, valid_ds = tfds.load('fashion_mnist', split=['train', 'test'])"
      ]
    },
    {
      "cell_type": "code",
      "execution_count": 6,
      "metadata": {
        "id": "mnDAHds5AUtk"
      },
      "outputs": [],
      "source": [
        "AUTOTUNE = tf.data.AUTOTUNE\n",
        "\n",
        "\n",
        "def parse_data(example):\n",
        "    # Get image\n",
        "    image = example[\"image\"]\n",
        "    # image = tf.image.convert_image_dtype(image, dtype=tf.float32)\n",
        "\n",
        "    # Get label\n",
        "    label = example[\"label\"]\n",
        "    label = tf.one_hot(label, depth=configs[\"num_classes\"])\n",
        "\n",
        "    return image, label\n",
        "\n",
        "\n",
        "def get_dataloader(ds, configs, dataloader_type=\"train\"):\n",
        "    dataloader = ds.map(parse_data, num_parallel_calls=AUTOTUNE)\n",
        "\n",
        "    if dataloader_type==\"train\":\n",
        "        dataloader = dataloader.shuffle(configs[\"shuffle_buffer\"])\n",
        "\n",
        "    dataloader = (\n",
        "        dataloader\n",
        "        .batch(configs[\"batch_size\"])\n",
        "        .prefetch(AUTOTUNE)\n",
        "    )\n",
        "\n",
        "    return dataloader"
      ]
    },
    {
      "cell_type": "code",
      "execution_count": 7,
      "metadata": {
        "id": "1vPKlz8HAUtk"
      },
      "outputs": [],
      "source": [
        "trainloader = get_dataloader(train_ds, configs)\n",
        "validloader = get_dataloader(valid_ds, configs, dataloader_type=\"valid\")"
      ]
    },
    {
      "cell_type": "markdown",
      "metadata": {
        "id": "Z4EbhZPDAUtk"
      },
      "source": [
        "# 🎄 Model"
      ]
    },
    {
      "cell_type": "code",
      "execution_count": 8,
      "metadata": {
        "id": "7GUmqmHtAUtk"
      },
      "outputs": [],
      "source": [
        "def get_model(configs):\n",
        "    backbone = tf.keras.applications.mobilenet_v2.MobileNetV2(weights='imagenet', include_top=False)\n",
        "    backbone.trainable = False\n",
        "\n",
        "    inputs = layers.Input(shape=(configs[\"image_size\"], configs[\"image_size\"], configs[\"image_channels\"]))\n",
        "    resize = layers.Resizing(32, 32)(inputs)\n",
        "    neck = layers.Conv2D(3, (3,3), padding=\"same\")(resize)\n",
        "    preprocess_input = tf.keras.applications.mobilenet.preprocess_input(neck)\n",
        "    x = backbone(preprocess_input)\n",
        "    x = layers.GlobalAveragePooling2D()(x)\n",
        "    outputs = layers.Dense(configs[\"num_classes\"], activation=\"softmax\")(x)\n",
        "\n",
        "    return models.Model(inputs=inputs, outputs=outputs)"
      ]
    },
    {
      "cell_type": "code",
      "execution_count": 9,
      "metadata": {
        "id": "CRq1FzgiAUtl",
        "colab": {
          "base_uri": "https://localhost:8080/"
        },
        "outputId": "fcbd039b-5534-4569-b2f2-5696b67cc3f0"
      },
      "outputs": [
        {
          "output_type": "stream",
          "name": "stderr",
          "text": [
            "WARNING:tensorflow:`input_shape` is undefined or non-square, or `rows` is not in [96, 128, 160, 192, 224]. Weights for input shape (224, 224) will be loaded as the default.\n"
          ]
        },
        {
          "output_type": "stream",
          "name": "stdout",
          "text": [
            "Model: \"model\"\n",
            "_________________________________________________________________\n",
            " Layer (type)                Output Shape              Param #   \n",
            "=================================================================\n",
            " input_2 (InputLayer)        [(None, 28, 28, 1)]       0         \n",
            "                                                                 \n",
            " resizing (Resizing)         (None, 32, 32, 1)         0         \n",
            "                                                                 \n",
            " conv2d (Conv2D)             (None, 32, 32, 3)         30        \n",
            "                                                                 \n",
            " tf.math.truediv (TFOpLambda  (None, 32, 32, 3)        0         \n",
            " )                                                               \n",
            "                                                                 \n",
            " tf.math.subtract (TFOpLambd  (None, 32, 32, 3)        0         \n",
            " a)                                                              \n",
            "                                                                 \n",
            " mobilenetv2_1.00_224 (Funct  (None, None, None, 1280)  2257984  \n",
            " ional)                                                          \n",
            "                                                                 \n",
            " global_average_pooling2d (G  (None, 1280)             0         \n",
            " lobalAveragePooling2D)                                          \n",
            "                                                                 \n",
            " dense (Dense)               (None, 10)                12810     \n",
            "                                                                 \n",
            "=================================================================\n",
            "Total params: 2,270,824\n",
            "Trainable params: 12,840\n",
            "Non-trainable params: 2,257,984\n",
            "_________________________________________________________________\n"
          ]
        }
      ],
      "source": [
        "tf.keras.backend.clear_session()\n",
        "model = get_model(configs)\n",
        "model.summary()"
      ]
    },
    {
      "cell_type": "markdown",
      "metadata": {
        "id": "EUluJSdVAUtl"
      },
      "source": [
        "# 🌿 Compile Model"
      ]
    },
    {
      "cell_type": "code",
      "execution_count": 10,
      "metadata": {
        "id": "-yzL-2zCAUtl"
      },
      "outputs": [],
      "source": [
        "model.compile(\n",
        "    optimizer = \"adam\",\n",
        "    loss = \"categorical_crossentropy\",\n",
        "    metrics = [\"accuracy\", tf.keras.metrics.TopKCategoricalAccuracy(k=5, name='top@5_accuracy')]\n",
        ")"
      ]
    },
    {
      "cell_type": "markdown",
      "metadata": {
        "id": "90ROe5NUAUtl"
      },
      "source": [
        "# 🌻 Train Variant 1"
      ]
    },
    {
      "cell_type": "code",
      "execution_count": 1,
      "metadata": {
        "id": "j0W8M5pcAUtl",
        "colab": {
          "base_uri": "https://localhost:8080/",
          "height": 246
        },
        "outputId": "90789ef8-0b1a-46e1-a820-168aa1702b67"
      },
      "outputs": [
        {
          "output_type": "error",
          "ename": "NameError",
          "evalue": "ignored",
          "traceback": [
            "\u001b[0;31m---------------------------------------------------------------------------\u001b[0m",
            "\u001b[0;31mNameError\u001b[0m                                 Traceback (most recent call last)",
            "\u001b[0;32m<ipython-input-1-f252dd1e0a0c>\u001b[0m in \u001b[0;36m<cell line: 2>\u001b[0;34m()\u001b[0m\n\u001b[1;32m      1\u001b[0m \u001b[0;31m# Initialize a W&B run\u001b[0m\u001b[0;34m\u001b[0m\u001b[0;34m\u001b[0m\u001b[0m\n\u001b[0;32m----> 2\u001b[0;31m run = wandb.init(\n\u001b[0m\u001b[1;32m      3\u001b[0m     \u001b[0mproject\u001b[0m \u001b[0;34m=\u001b[0m \u001b[0;34m\"intro-keras\"\u001b[0m\u001b[0;34m,\u001b[0m\u001b[0;34m\u001b[0m\u001b[0;34m\u001b[0m\u001b[0m\n\u001b[1;32m      4\u001b[0m     \u001b[0mconfig\u001b[0m \u001b[0;34m=\u001b[0m \u001b[0mconfigs\u001b[0m\u001b[0;34m\u001b[0m\u001b[0;34m\u001b[0m\u001b[0m\n\u001b[1;32m      5\u001b[0m )\n",
            "\u001b[0;31mNameError\u001b[0m: name 'wandb' is not defined"
          ]
        }
      ],
      "source": [
        "# Initialize a W&B run\n",
        "run = wandb.init(\n",
        "    project = \"intro-keras\",\n",
        "    config = configs\n",
        ")\n",
        "\n",
        "# Train your model\n",
        "model.fit(\n",
        "    trainloader,\n",
        "    epochs = configs[\"epochs\"],\n",
        "    validation_data = validloader,\n",
        "    callbacks = [\n",
        "        WandbMetricsLogger(log_freq=10), # Notice the use of WandbMetricsLogger here\n",
        "        WandbModelCheckpoint(filepath=\"models/\") # Notice the use of WandbModelCheckpoint here\n",
        "       ]\n",
        "    )\n",
        "\n",
        "# Close the W&B run\n",
        "run.finish()"
      ]
    },
    {
      "cell_type": "markdown",
      "source": [
        "# 🌻 Train Variant 2 (using WandbEvalCallback)"
      ],
      "metadata": {
        "id": "NbMzyB3HFTUu"
      }
    },
    {
      "cell_type": "code",
      "source": [
        "class WandbClfEvalCallback(WandbEvalCallback):\n",
        "    def __init__(\n",
        "        self, validloader, data_table_columns, pred_table_columns, num_samples=100\n",
        "    ):\n",
        "        super().__init__(data_table_columns, pred_table_columns)\n",
        "\n",
        "        self.val_data = validloader.unbatch().take(num_samples)\n",
        "\n",
        "    def add_ground_truth(self, logs=None):\n",
        "        for idx, (image, label) in enumerate(self.val_data):\n",
        "            self.data_table.add_data(\n",
        "                idx,\n",
        "                wandb.Image(image),\n",
        "                np.argmax(label, axis=-1)\n",
        "            )\n",
        "\n",
        "    def add_model_predictions(self, epoch, logs=None):\n",
        "        # Get predictions\n",
        "        preds = self._inference()\n",
        "        table_idxs = self.data_table_ref.get_index()\n",
        "\n",
        "        for idx in table_idxs:\n",
        "            pred = preds[idx]\n",
        "            self.pred_table.add_data(\n",
        "                epoch,\n",
        "                self.data_table_ref.data[idx][0],\n",
        "                self.data_table_ref.data[idx][1],\n",
        "                self.data_table_ref.data[idx][2],\n",
        "                pred\n",
        "            )\n",
        "\n",
        "    def _inference(self):\n",
        "      preds = []\n",
        "      for image, label in self.val_data:\n",
        "          pred = self.model(tf.expand_dims(image, axis=0))\n",
        "          argmax_pred = tf.argmax(pred, axis=-1).numpy()[0]\n",
        "          preds.append(argmax_pred)\n",
        "\n",
        "      return preds"
      ],
      "metadata": {
        "id": "h0WUp8iLE2iM"
      },
      "execution_count": 11,
      "outputs": []
    },
    {
      "cell_type": "code",
      "source": [
        "# Initialize a W&B run\n",
        "run = wandb.init(\n",
        "    project = \"intro-keras\",\n",
        "    config = configs\n",
        ")\n",
        "\n",
        "# Train your model\n",
        "model.fit(\n",
        "    trainloader,\n",
        "    epochs = configs[\"epochs\"],\n",
        "    validation_data = validloader,\n",
        "    callbacks = [\n",
        "        WandbMetricsLogger(log_freq=10), # Notice the use of WandbMetricsLogger here\n",
        "        WandbClfEvalCallback(\n",
        "            validloader,\n",
        "            data_table_columns=[\"idx\", \"image\", \"ground_truth\"],\n",
        "            pred_table_columns=[\"epoch\", \"idx\", \"image\", \"ground_truth\", \"prediction\"]\n",
        "        ) # Notice the use of WandbEvalCallback here\n",
        "    ]\n",
        ")\n",
        "\n",
        "# Close the W&B run\n",
        "run.finish()"
      ],
      "metadata": {
        "colab": {
          "base_uri": "https://localhost:8080/",
          "height": 1000,
          "referenced_widgets": [
            "8edd8362c29b40d7bfd329cb05bd860a",
            "b5e6ccc898d546afab16b939eab405c6",
            "5edf94f9dd7442f6a1015139423ee973",
            "be7ab9c799da492b899754025094b284",
            "d38d2bc140f2401390d9c97877946938",
            "cf42555f1cde47d4884a8758d39bfa67",
            "f58f9208f5a1494986fd7fb66a508eff",
            "cf0e4d309b4a4587bffe1547fc0c9de5",
            "6040b452e2cb442a8cd532e3d91de67d",
            "51b85f543f53400ba74c9cef9428b2fd",
            "237b9f92b5ff43beb019929eb984d268",
            "96d59e8a52b945379fe3c8315550f77f",
            "35d085a6f8ca40e0bb5bc6e4fb5f6772",
            "870f5e3e3e9f4bdb8c74bb0f6c62bc72",
            "0462b159aebd4d0fa1bb9983bf8905ff",
            "0be7e92b122c4e3d849f49302b0ea881"
          ]
        },
        "id": "FQpjabkKEJms",
        "outputId": "8f0116e8-7681-4185-e763-03f6007320b6"
      },
      "execution_count": 14,
      "outputs": [
        {
          "output_type": "display_data",
          "data": {
            "text/plain": [
              "<IPython.core.display.HTML object>"
            ],
            "text/html": [
              "Finishing last run (ID:q2jp60nt) before initializing another..."
            ]
          },
          "metadata": {}
        },
        {
          "output_type": "display_data",
          "data": {
            "text/plain": [
              "<IPython.core.display.HTML object>"
            ],
            "text/html": [
              "Waiting for W&B process to finish... <strong style=\"color:green\">(success).</strong>"
            ]
          },
          "metadata": {}
        },
        {
          "output_type": "display_data",
          "data": {
            "text/plain": [
              "VBox(children=(Label(value='0.001 MB of 0.010 MB uploaded (0.000 MB deduped)\\r'), FloatProgress(value=0.117607…"
            ],
            "application/vnd.jupyter.widget-view+json": {
              "version_major": 2,
              "version_minor": 0,
              "model_id": "8edd8362c29b40d7bfd329cb05bd860a"
            }
          },
          "metadata": {}
        },
        {
          "output_type": "display_data",
          "data": {
            "text/plain": [
              "<IPython.core.display.HTML object>"
            ],
            "text/html": [
              " View run <strong style=\"color:#cdcd00\">electric-sunset-9</strong> at: <a href='https://wandb.ai/scik/intro-keras/runs/q2jp60nt' target=\"_blank\">https://wandb.ai/scik/intro-keras/runs/q2jp60nt</a><br/>Synced 4 W&B file(s), 0 media file(s), 0 artifact file(s) and 0 other file(s)"
            ]
          },
          "metadata": {}
        },
        {
          "output_type": "display_data",
          "data": {
            "text/plain": [
              "<IPython.core.display.HTML object>"
            ],
            "text/html": [
              "Find logs at: <code>./wandb/run-20230825_095914-q2jp60nt/logs</code>"
            ]
          },
          "metadata": {}
        },
        {
          "output_type": "display_data",
          "data": {
            "text/plain": [
              "<IPython.core.display.HTML object>"
            ],
            "text/html": [
              "Successfully finished last run (ID:q2jp60nt). Initializing new run:<br/>"
            ]
          },
          "metadata": {}
        },
        {
          "output_type": "display_data",
          "data": {
            "text/plain": [
              "<IPython.core.display.HTML object>"
            ],
            "text/html": [
              "Tracking run with wandb version 0.15.8"
            ]
          },
          "metadata": {}
        },
        {
          "output_type": "display_data",
          "data": {
            "text/plain": [
              "<IPython.core.display.HTML object>"
            ],
            "text/html": [
              "Run data is saved locally in <code>/content/wandb/run-20230825_095958-imc7kit9</code>"
            ]
          },
          "metadata": {}
        },
        {
          "output_type": "display_data",
          "data": {
            "text/plain": [
              "<IPython.core.display.HTML object>"
            ],
            "text/html": [
              "Syncing run <strong><a href='https://wandb.ai/scik/intro-keras/runs/imc7kit9' target=\"_blank\">clean-totem-10</a></strong> to <a href='https://wandb.ai/scik/intro-keras' target=\"_blank\">Weights & Biases</a> (<a href='https://wandb.me/run' target=\"_blank\">docs</a>)<br/>"
            ]
          },
          "metadata": {}
        },
        {
          "output_type": "display_data",
          "data": {
            "text/plain": [
              "<IPython.core.display.HTML object>"
            ],
            "text/html": [
              " View project at <a href='https://wandb.ai/scik/intro-keras' target=\"_blank\">https://wandb.ai/scik/intro-keras</a>"
            ]
          },
          "metadata": {}
        },
        {
          "output_type": "display_data",
          "data": {
            "text/plain": [
              "<IPython.core.display.HTML object>"
            ],
            "text/html": [
              " View run at <a href='https://wandb.ai/scik/intro-keras/runs/imc7kit9' target=\"_blank\">https://wandb.ai/scik/intro-keras/runs/imc7kit9</a>"
            ]
          },
          "metadata": {}
        },
        {
          "output_type": "stream",
          "name": "stderr",
          "text": [
            "\u001b[34m\u001b[1mwandb\u001b[0m: \\ 1 of 101 files downloaded...\r\u001b[34m\u001b[1mwandb\u001b[0m:   101 of 101 files downloaded.  \n"
          ]
        },
        {
          "output_type": "stream",
          "name": "stdout",
          "text": [
            "Epoch 1/10\n",
            "938/938 [==============================] - 39s 35ms/step - loss: 1.4955 - accuracy: 0.5305 - top@5_accuracy: 0.9427 - val_loss: 1.2044 - val_accuracy: 0.6103 - val_top@5_accuracy: 0.9715\n",
            "Epoch 2/10\n",
            "938/938 [==============================] - 27s 29ms/step - loss: 1.1129 - accuracy: 0.6321 - top@5_accuracy: 0.9739 - val_loss: 1.0571 - val_accuracy: 0.6458 - val_top@5_accuracy: 0.9742\n",
            "Epoch 3/10\n",
            "938/938 [==============================] - 26s 28ms/step - loss: 1.0208 - accuracy: 0.6544 - top@5_accuracy: 0.9781 - val_loss: 1.0074 - val_accuracy: 0.6573 - val_top@5_accuracy: 0.9765\n",
            "Epoch 4/10\n",
            "938/938 [==============================] - 26s 28ms/step - loss: 0.9765 - accuracy: 0.6651 - top@5_accuracy: 0.9790 - val_loss: 0.9790 - val_accuracy: 0.6683 - val_top@5_accuracy: 0.9774\n",
            "Epoch 5/10\n",
            "938/938 [==============================] - 31s 33ms/step - loss: 0.9496 - accuracy: 0.6731 - top@5_accuracy: 0.9792 - val_loss: 0.9598 - val_accuracy: 0.6735 - val_top@5_accuracy: 0.9763\n",
            "Epoch 6/10\n",
            "938/938 [==============================] - 27s 28ms/step - loss: 0.9306 - accuracy: 0.6788 - top@5_accuracy: 0.9796 - val_loss: 0.9507 - val_accuracy: 0.6746 - val_top@5_accuracy: 0.9761\n",
            "Epoch 7/10\n",
            "938/938 [==============================] - 26s 28ms/step - loss: 0.9186 - accuracy: 0.6810 - top@5_accuracy: 0.9797 - val_loss: 0.9446 - val_accuracy: 0.6775 - val_top@5_accuracy: 0.9767\n",
            "Epoch 8/10\n",
            "938/938 [==============================] - 28s 29ms/step - loss: 0.9087 - accuracy: 0.6835 - top@5_accuracy: 0.9796 - val_loss: 0.9311 - val_accuracy: 0.6778 - val_top@5_accuracy: 0.9776\n",
            "Epoch 9/10\n",
            "938/938 [==============================] - 27s 29ms/step - loss: 0.9013 - accuracy: 0.6858 - top@5_accuracy: 0.9807 - val_loss: 0.9294 - val_accuracy: 0.6790 - val_top@5_accuracy: 0.9777\n",
            "Epoch 10/10\n",
            "938/938 [==============================] - 27s 29ms/step - loss: 0.8958 - accuracy: 0.6879 - top@5_accuracy: 0.9804 - val_loss: 0.9353 - val_accuracy: 0.6783 - val_top@5_accuracy: 0.9774\n"
          ]
        },
        {
          "output_type": "display_data",
          "data": {
            "text/plain": [
              "<IPython.core.display.HTML object>"
            ],
            "text/html": [
              "Waiting for W&B process to finish... <strong style=\"color:green\">(success).</strong>"
            ]
          },
          "metadata": {}
        },
        {
          "output_type": "display_data",
          "data": {
            "text/plain": [
              "VBox(children=(Label(value='0.282 MB of 0.282 MB uploaded (0.000 MB deduped)\\r'), FloatProgress(value=1.0, max…"
            ],
            "application/vnd.jupyter.widget-view+json": {
              "version_major": 2,
              "version_minor": 0,
              "model_id": "6040b452e2cb442a8cd532e3d91de67d"
            }
          },
          "metadata": {}
        },
        {
          "output_type": "display_data",
          "data": {
            "text/plain": [
              "<IPython.core.display.HTML object>"
            ],
            "text/html": [
              "<style>\n",
              "    table.wandb td:nth-child(1) { padding: 0 10px; text-align: left ; width: auto;} td:nth-child(2) {text-align: left ; width: 100%}\n",
              "    .wandb-row { display: flex; flex-direction: row; flex-wrap: wrap; justify-content: flex-start; width: 100% }\n",
              "    .wandb-col { display: flex; flex-direction: column; flex-basis: 100%; flex: 1; padding: 10px; }\n",
              "    </style>\n",
              "<div class=\"wandb-row\"><div class=\"wandb-col\"><h3>Run history:</h3><br/><table class=\"wandb\"><tr><td>batch/accuracy</td><td>▁▃▄▅▇▇▇▇█▇▇▇████████████████████████████</td></tr><tr><td>batch/batch_step</td><td>▁▁▁▁▂▂▂▂▂▃▃▃▃▃▃▄▄▄▄▄▅▅▅▅▅▅▆▆▆▆▆▇▇▇▇▇▇███</td></tr><tr><td>batch/learning_rate</td><td>▁▁▁▁▁▁▁▁▁▁▁▁▁▁▁▁▁▁▁▁▁▁▁▁▁▁▁▁▁▁▁▁▁▁▁▁▁▁▁▁</td></tr><tr><td>batch/loss</td><td>█▇▆▅▃▃▃▂▂▂▂▂▁▂▂▂▁▁▁▁▁▁▁▁▁▁▁▁▁▁▁▁▁▁▁▁▁▁▁▁</td></tr><tr><td>batch/top@5_accuracy</td><td>▁▄▆▆████████████████████████████████████</td></tr><tr><td>epoch/accuracy</td><td>▁▆▇▇▇█████</td></tr><tr><td>epoch/epoch</td><td>▁▂▃▃▄▅▆▆▇█</td></tr><tr><td>epoch/learning_rate</td><td>▁▁▁▁▁▁▁▁▁▁</td></tr><tr><td>epoch/loss</td><td>█▄▂▂▂▁▁▁▁▁</td></tr><tr><td>epoch/top@5_accuracy</td><td>▁▇████████</td></tr><tr><td>epoch/val_accuracy</td><td>▁▅▆▇▇█████</td></tr><tr><td>epoch/val_loss</td><td>█▄▃▂▂▂▁▁▁▁</td></tr><tr><td>epoch/val_top@5_accuracy</td><td>▁▄▇█▆▆▇███</td></tr></table><br/></div><div class=\"wandb-col\"><h3>Run summary:</h3><br/><table class=\"wandb\"><tr><td>batch/accuracy</td><td>0.68777</td></tr><tr><td>batch/batch_step</td><td>9390</td></tr><tr><td>batch/learning_rate</td><td>0.001</td></tr><tr><td>batch/loss</td><td>0.896</td></tr><tr><td>batch/top@5_accuracy</td><td>0.98043</td></tr><tr><td>epoch/accuracy</td><td>0.68787</td></tr><tr><td>epoch/epoch</td><td>9</td></tr><tr><td>epoch/learning_rate</td><td>0.001</td></tr><tr><td>epoch/loss</td><td>0.89578</td></tr><tr><td>epoch/top@5_accuracy</td><td>0.98045</td></tr><tr><td>epoch/val_accuracy</td><td>0.6783</td></tr><tr><td>epoch/val_loss</td><td>0.93526</td></tr><tr><td>epoch/val_top@5_accuracy</td><td>0.9774</td></tr></table><br/></div></div>"
            ]
          },
          "metadata": {}
        },
        {
          "output_type": "display_data",
          "data": {
            "text/plain": [
              "<IPython.core.display.HTML object>"
            ],
            "text/html": [
              " View run <strong style=\"color:#cdcd00\">clean-totem-10</strong> at: <a href='https://wandb.ai/scik/intro-keras/runs/imc7kit9' target=\"_blank\">https://wandb.ai/scik/intro-keras/runs/imc7kit9</a><br/>Synced 5 W&B file(s), 0 media file(s), 111 artifact file(s) and 0 other file(s)"
            ]
          },
          "metadata": {}
        },
        {
          "output_type": "display_data",
          "data": {
            "text/plain": [
              "<IPython.core.display.HTML object>"
            ],
            "text/html": [
              "Find logs at: <code>./wandb/run-20230825_095958-imc7kit9/logs</code>"
            ]
          },
          "metadata": {}
        }
      ]
    }
  ],
  "metadata": {
    "accelerator": "GPU",
    "colab": {
      "provenance": [],
      "toc_visible": true
    },
    "kernelspec": {
      "display_name": "Python 3",
      "name": "python3"
    },
    "widgets": {
      "application/vnd.jupyter.widget-state+json": {
        "8edd8362c29b40d7bfd329cb05bd860a": {
          "model_module": "@jupyter-widgets/controls",
          "model_name": "VBoxModel",
          "model_module_version": "1.5.0",
          "state": {
            "_dom_classes": [],
            "_model_module": "@jupyter-widgets/controls",
            "_model_module_version": "1.5.0",
            "_model_name": "VBoxModel",
            "_view_count": null,
            "_view_module": "@jupyter-widgets/controls",
            "_view_module_version": "1.5.0",
            "_view_name": "VBoxView",
            "box_style": "",
            "children": [
              "IPY_MODEL_b5e6ccc898d546afab16b939eab405c6",
              "IPY_MODEL_5edf94f9dd7442f6a1015139423ee973"
            ],
            "layout": "IPY_MODEL_be7ab9c799da492b899754025094b284"
          }
        },
        "b5e6ccc898d546afab16b939eab405c6": {
          "model_module": "@jupyter-widgets/controls",
          "model_name": "LabelModel",
          "model_module_version": "1.5.0",
          "state": {
            "_dom_classes": [],
            "_model_module": "@jupyter-widgets/controls",
            "_model_module_version": "1.5.0",
            "_model_name": "LabelModel",
            "_view_count": null,
            "_view_module": "@jupyter-widgets/controls",
            "_view_module_version": "1.5.0",
            "_view_name": "LabelView",
            "description": "",
            "description_tooltip": null,
            "layout": "IPY_MODEL_d38d2bc140f2401390d9c97877946938",
            "placeholder": "​",
            "style": "IPY_MODEL_cf42555f1cde47d4884a8758d39bfa67",
            "value": "0.001 MB of 0.010 MB uploaded (0.000 MB deduped)\r"
          }
        },
        "5edf94f9dd7442f6a1015139423ee973": {
          "model_module": "@jupyter-widgets/controls",
          "model_name": "FloatProgressModel",
          "model_module_version": "1.5.0",
          "state": {
            "_dom_classes": [],
            "_model_module": "@jupyter-widgets/controls",
            "_model_module_version": "1.5.0",
            "_model_name": "FloatProgressModel",
            "_view_count": null,
            "_view_module": "@jupyter-widgets/controls",
            "_view_module_version": "1.5.0",
            "_view_name": "ProgressView",
            "bar_style": "",
            "description": "",
            "description_tooltip": null,
            "layout": "IPY_MODEL_f58f9208f5a1494986fd7fb66a508eff",
            "max": 1,
            "min": 0,
            "orientation": "horizontal",
            "style": "IPY_MODEL_cf0e4d309b4a4587bffe1547fc0c9de5",
            "value": 0.11760720162617365
          }
        },
        "be7ab9c799da492b899754025094b284": {
          "model_module": "@jupyter-widgets/base",
          "model_name": "LayoutModel",
          "model_module_version": "1.2.0",
          "state": {
            "_model_module": "@jupyter-widgets/base",
            "_model_module_version": "1.2.0",
            "_model_name": "LayoutModel",
            "_view_count": null,
            "_view_module": "@jupyter-widgets/base",
            "_view_module_version": "1.2.0",
            "_view_name": "LayoutView",
            "align_content": null,
            "align_items": null,
            "align_self": null,
            "border": null,
            "bottom": null,
            "display": null,
            "flex": null,
            "flex_flow": null,
            "grid_area": null,
            "grid_auto_columns": null,
            "grid_auto_flow": null,
            "grid_auto_rows": null,
            "grid_column": null,
            "grid_gap": null,
            "grid_row": null,
            "grid_template_areas": null,
            "grid_template_columns": null,
            "grid_template_rows": null,
            "height": null,
            "justify_content": null,
            "justify_items": null,
            "left": null,
            "margin": null,
            "max_height": null,
            "max_width": null,
            "min_height": null,
            "min_width": null,
            "object_fit": null,
            "object_position": null,
            "order": null,
            "overflow": null,
            "overflow_x": null,
            "overflow_y": null,
            "padding": null,
            "right": null,
            "top": null,
            "visibility": null,
            "width": null
          }
        },
        "d38d2bc140f2401390d9c97877946938": {
          "model_module": "@jupyter-widgets/base",
          "model_name": "LayoutModel",
          "model_module_version": "1.2.0",
          "state": {
            "_model_module": "@jupyter-widgets/base",
            "_model_module_version": "1.2.0",
            "_model_name": "LayoutModel",
            "_view_count": null,
            "_view_module": "@jupyter-widgets/base",
            "_view_module_version": "1.2.0",
            "_view_name": "LayoutView",
            "align_content": null,
            "align_items": null,
            "align_self": null,
            "border": null,
            "bottom": null,
            "display": null,
            "flex": null,
            "flex_flow": null,
            "grid_area": null,
            "grid_auto_columns": null,
            "grid_auto_flow": null,
            "grid_auto_rows": null,
            "grid_column": null,
            "grid_gap": null,
            "grid_row": null,
            "grid_template_areas": null,
            "grid_template_columns": null,
            "grid_template_rows": null,
            "height": null,
            "justify_content": null,
            "justify_items": null,
            "left": null,
            "margin": null,
            "max_height": null,
            "max_width": null,
            "min_height": null,
            "min_width": null,
            "object_fit": null,
            "object_position": null,
            "order": null,
            "overflow": null,
            "overflow_x": null,
            "overflow_y": null,
            "padding": null,
            "right": null,
            "top": null,
            "visibility": null,
            "width": null
          }
        },
        "cf42555f1cde47d4884a8758d39bfa67": {
          "model_module": "@jupyter-widgets/controls",
          "model_name": "DescriptionStyleModel",
          "model_module_version": "1.5.0",
          "state": {
            "_model_module": "@jupyter-widgets/controls",
            "_model_module_version": "1.5.0",
            "_model_name": "DescriptionStyleModel",
            "_view_count": null,
            "_view_module": "@jupyter-widgets/base",
            "_view_module_version": "1.2.0",
            "_view_name": "StyleView",
            "description_width": ""
          }
        },
        "f58f9208f5a1494986fd7fb66a508eff": {
          "model_module": "@jupyter-widgets/base",
          "model_name": "LayoutModel",
          "model_module_version": "1.2.0",
          "state": {
            "_model_module": "@jupyter-widgets/base",
            "_model_module_version": "1.2.0",
            "_model_name": "LayoutModel",
            "_view_count": null,
            "_view_module": "@jupyter-widgets/base",
            "_view_module_version": "1.2.0",
            "_view_name": "LayoutView",
            "align_content": null,
            "align_items": null,
            "align_self": null,
            "border": null,
            "bottom": null,
            "display": null,
            "flex": null,
            "flex_flow": null,
            "grid_area": null,
            "grid_auto_columns": null,
            "grid_auto_flow": null,
            "grid_auto_rows": null,
            "grid_column": null,
            "grid_gap": null,
            "grid_row": null,
            "grid_template_areas": null,
            "grid_template_columns": null,
            "grid_template_rows": null,
            "height": null,
            "justify_content": null,
            "justify_items": null,
            "left": null,
            "margin": null,
            "max_height": null,
            "max_width": null,
            "min_height": null,
            "min_width": null,
            "object_fit": null,
            "object_position": null,
            "order": null,
            "overflow": null,
            "overflow_x": null,
            "overflow_y": null,
            "padding": null,
            "right": null,
            "top": null,
            "visibility": null,
            "width": null
          }
        },
        "cf0e4d309b4a4587bffe1547fc0c9de5": {
          "model_module": "@jupyter-widgets/controls",
          "model_name": "ProgressStyleModel",
          "model_module_version": "1.5.0",
          "state": {
            "_model_module": "@jupyter-widgets/controls",
            "_model_module_version": "1.5.0",
            "_model_name": "ProgressStyleModel",
            "_view_count": null,
            "_view_module": "@jupyter-widgets/base",
            "_view_module_version": "1.2.0",
            "_view_name": "StyleView",
            "bar_color": null,
            "description_width": ""
          }
        },
        "6040b452e2cb442a8cd532e3d91de67d": {
          "model_module": "@jupyter-widgets/controls",
          "model_name": "VBoxModel",
          "model_module_version": "1.5.0",
          "state": {
            "_dom_classes": [],
            "_model_module": "@jupyter-widgets/controls",
            "_model_module_version": "1.5.0",
            "_model_name": "VBoxModel",
            "_view_count": null,
            "_view_module": "@jupyter-widgets/controls",
            "_view_module_version": "1.5.0",
            "_view_name": "VBoxView",
            "box_style": "",
            "children": [
              "IPY_MODEL_51b85f543f53400ba74c9cef9428b2fd",
              "IPY_MODEL_237b9f92b5ff43beb019929eb984d268"
            ],
            "layout": "IPY_MODEL_96d59e8a52b945379fe3c8315550f77f"
          }
        },
        "51b85f543f53400ba74c9cef9428b2fd": {
          "model_module": "@jupyter-widgets/controls",
          "model_name": "LabelModel",
          "model_module_version": "1.5.0",
          "state": {
            "_dom_classes": [],
            "_model_module": "@jupyter-widgets/controls",
            "_model_module_version": "1.5.0",
            "_model_name": "LabelModel",
            "_view_count": null,
            "_view_module": "@jupyter-widgets/controls",
            "_view_module_version": "1.5.0",
            "_view_name": "LabelView",
            "description": "",
            "description_tooltip": null,
            "layout": "IPY_MODEL_35d085a6f8ca40e0bb5bc6e4fb5f6772",
            "placeholder": "​",
            "style": "IPY_MODEL_870f5e3e3e9f4bdb8c74bb0f6c62bc72",
            "value": "0.294 MB of 0.294 MB uploaded (0.000 MB deduped)\r"
          }
        },
        "237b9f92b5ff43beb019929eb984d268": {
          "model_module": "@jupyter-widgets/controls",
          "model_name": "FloatProgressModel",
          "model_module_version": "1.5.0",
          "state": {
            "_dom_classes": [],
            "_model_module": "@jupyter-widgets/controls",
            "_model_module_version": "1.5.0",
            "_model_name": "FloatProgressModel",
            "_view_count": null,
            "_view_module": "@jupyter-widgets/controls",
            "_view_module_version": "1.5.0",
            "_view_name": "ProgressView",
            "bar_style": "",
            "description": "",
            "description_tooltip": null,
            "layout": "IPY_MODEL_0462b159aebd4d0fa1bb9983bf8905ff",
            "max": 1,
            "min": 0,
            "orientation": "horizontal",
            "style": "IPY_MODEL_0be7e92b122c4e3d849f49302b0ea881",
            "value": 1
          }
        },
        "96d59e8a52b945379fe3c8315550f77f": {
          "model_module": "@jupyter-widgets/base",
          "model_name": "LayoutModel",
          "model_module_version": "1.2.0",
          "state": {
            "_model_module": "@jupyter-widgets/base",
            "_model_module_version": "1.2.0",
            "_model_name": "LayoutModel",
            "_view_count": null,
            "_view_module": "@jupyter-widgets/base",
            "_view_module_version": "1.2.0",
            "_view_name": "LayoutView",
            "align_content": null,
            "align_items": null,
            "align_self": null,
            "border": null,
            "bottom": null,
            "display": null,
            "flex": null,
            "flex_flow": null,
            "grid_area": null,
            "grid_auto_columns": null,
            "grid_auto_flow": null,
            "grid_auto_rows": null,
            "grid_column": null,
            "grid_gap": null,
            "grid_row": null,
            "grid_template_areas": null,
            "grid_template_columns": null,
            "grid_template_rows": null,
            "height": null,
            "justify_content": null,
            "justify_items": null,
            "left": null,
            "margin": null,
            "max_height": null,
            "max_width": null,
            "min_height": null,
            "min_width": null,
            "object_fit": null,
            "object_position": null,
            "order": null,
            "overflow": null,
            "overflow_x": null,
            "overflow_y": null,
            "padding": null,
            "right": null,
            "top": null,
            "visibility": null,
            "width": null
          }
        },
        "35d085a6f8ca40e0bb5bc6e4fb5f6772": {
          "model_module": "@jupyter-widgets/base",
          "model_name": "LayoutModel",
          "model_module_version": "1.2.0",
          "state": {
            "_model_module": "@jupyter-widgets/base",
            "_model_module_version": "1.2.0",
            "_model_name": "LayoutModel",
            "_view_count": null,
            "_view_module": "@jupyter-widgets/base",
            "_view_module_version": "1.2.0",
            "_view_name": "LayoutView",
            "align_content": null,
            "align_items": null,
            "align_self": null,
            "border": null,
            "bottom": null,
            "display": null,
            "flex": null,
            "flex_flow": null,
            "grid_area": null,
            "grid_auto_columns": null,
            "grid_auto_flow": null,
            "grid_auto_rows": null,
            "grid_column": null,
            "grid_gap": null,
            "grid_row": null,
            "grid_template_areas": null,
            "grid_template_columns": null,
            "grid_template_rows": null,
            "height": null,
            "justify_content": null,
            "justify_items": null,
            "left": null,
            "margin": null,
            "max_height": null,
            "max_width": null,
            "min_height": null,
            "min_width": null,
            "object_fit": null,
            "object_position": null,
            "order": null,
            "overflow": null,
            "overflow_x": null,
            "overflow_y": null,
            "padding": null,
            "right": null,
            "top": null,
            "visibility": null,
            "width": null
          }
        },
        "870f5e3e3e9f4bdb8c74bb0f6c62bc72": {
          "model_module": "@jupyter-widgets/controls",
          "model_name": "DescriptionStyleModel",
          "model_module_version": "1.5.0",
          "state": {
            "_model_module": "@jupyter-widgets/controls",
            "_model_module_version": "1.5.0",
            "_model_name": "DescriptionStyleModel",
            "_view_count": null,
            "_view_module": "@jupyter-widgets/base",
            "_view_module_version": "1.2.0",
            "_view_name": "StyleView",
            "description_width": ""
          }
        },
        "0462b159aebd4d0fa1bb9983bf8905ff": {
          "model_module": "@jupyter-widgets/base",
          "model_name": "LayoutModel",
          "model_module_version": "1.2.0",
          "state": {
            "_model_module": "@jupyter-widgets/base",
            "_model_module_version": "1.2.0",
            "_model_name": "LayoutModel",
            "_view_count": null,
            "_view_module": "@jupyter-widgets/base",
            "_view_module_version": "1.2.0",
            "_view_name": "LayoutView",
            "align_content": null,
            "align_items": null,
            "align_self": null,
            "border": null,
            "bottom": null,
            "display": null,
            "flex": null,
            "flex_flow": null,
            "grid_area": null,
            "grid_auto_columns": null,
            "grid_auto_flow": null,
            "grid_auto_rows": null,
            "grid_column": null,
            "grid_gap": null,
            "grid_row": null,
            "grid_template_areas": null,
            "grid_template_columns": null,
            "grid_template_rows": null,
            "height": null,
            "justify_content": null,
            "justify_items": null,
            "left": null,
            "margin": null,
            "max_height": null,
            "max_width": null,
            "min_height": null,
            "min_width": null,
            "object_fit": null,
            "object_position": null,
            "order": null,
            "overflow": null,
            "overflow_x": null,
            "overflow_y": null,
            "padding": null,
            "right": null,
            "top": null,
            "visibility": null,
            "width": null
          }
        },
        "0be7e92b122c4e3d849f49302b0ea881": {
          "model_module": "@jupyter-widgets/controls",
          "model_name": "ProgressStyleModel",
          "model_module_version": "1.5.0",
          "state": {
            "_model_module": "@jupyter-widgets/controls",
            "_model_module_version": "1.5.0",
            "_model_name": "ProgressStyleModel",
            "_view_count": null,
            "_view_module": "@jupyter-widgets/base",
            "_view_module_version": "1.2.0",
            "_view_name": "StyleView",
            "bar_color": null,
            "description_width": ""
          }
        }
      }
    }
  },
  "nbformat": 4,
  "nbformat_minor": 0
}