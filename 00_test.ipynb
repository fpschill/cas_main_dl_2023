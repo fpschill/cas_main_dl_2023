{
 "cells": [
  {
   "cell_type": "code",
   "execution_count": 14,
   "id": "becfed8e",
   "metadata": {},
   "outputs": [
    {
     "name": "stdout",
     "output_type": "stream",
     "text": [
      "setup already run.\n"
     ]
    }
   ],
   "source": [
    "import os,sys\n",
    "import wget,zipfile\n",
    "\n",
    "if \"labsetup_run\" not in locals() or labsetup_run:\n",
    "\n",
    "    print(\"running bootstrap ...\")\n",
    "\n",
    "    if \"google.colab\" in sys.modules:\n",
    "        print(\"colab\")\n",
    "\n",
    "    else:\n",
    "        print(\"local\")\n",
    "        filename=wget.download(\"https://drive.google.com/uc?export=download&confirm=yes&id=1dkSV2oL8Ua1SDmzVvtGkyQ0LGQ6VpUIy\")        \n",
    "\n",
    "    # allow \"hot-reloading\" of modules\n",
    "    %load_ext autoreload\n",
    "    %autoreload 2\n",
    "    # needed for inline plots in some contexts\n",
    "    %matplotlib inline\n",
    "\n",
    "    labsetup_run = False  # change to True re-run setup\n",
    "else:\n",
    "    print(\"setup already run.\")"
   ]
  },
  {
   "cell_type": "code",
   "execution_count": 15,
   "id": "9980aa0c",
   "metadata": {},
   "outputs": [],
   "source": [
    "path=\".\"\n",
    "zf = zipfile.ZipFile(os.path.join(path,\"data.zip\"), \"r\")\n",
    "zf.extractall()"
   ]
  },
  {
   "cell_type": "code",
   "execution_count": 12,
   "id": "24193011",
   "metadata": {},
   "outputs": [
    {
     "name": "stdout",
     "output_type": "stream",
     "text": [
      "(9637, 80, 80, 3)\n"
     ]
    }
   ],
   "source": [
    "import numpy as np\n",
    "import pandas as pd\n",
    "\n",
    "path = \"./data/simpson_data\"\n",
    "X_train = np.load(os.path.join(path, \"X_train.npy\"))\n",
    "print(X_train.shape)\n"
   ]
  },
  {
   "cell_type": "code",
   "execution_count": null,
   "id": "a1144346",
   "metadata": {},
   "outputs": [],
   "source": []
  },
  {
   "cell_type": "code",
   "execution_count": null,
   "id": "55f4195e",
   "metadata": {},
   "outputs": [],
   "source": []
  }
 ],
 "metadata": {
  "kernelspec": {
   "display_name": "Python 3 (ipykernel)",
   "language": "python",
   "name": "python3"
  },
  "language_info": {
   "codemirror_mode": {
    "name": "ipython",
    "version": 3
   },
   "file_extension": ".py",
   "mimetype": "text/x-python",
   "name": "python",
   "nbconvert_exporter": "python",
   "pygments_lexer": "ipython3",
   "version": "3.9.13"
  }
 },
 "nbformat": 4,
 "nbformat_minor": 5
}
