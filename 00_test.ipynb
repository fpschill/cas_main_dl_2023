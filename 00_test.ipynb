{
 "cells": [
  {
   "cell_type": "code",
   "execution_count": null,
   "id": "_87WoEYIhKoX",
   "metadata": {
    "id": "_87WoEYIhKoX"
   },
   "outputs": [],
   "source": [
    "import sys\n",
    "\n",
    "    #%pip install -U \"scikit-learn<1.0.0\"\n",
    "    #%pip install -U \"scikit-image<0.19\"\n",
    "\n",
    "print(\"Versions: \")\n",
    "import tensorflow\n",
    "print(\"Tensorflow:\",tensorflow.__version__)\n",
    "import platform\n",
    "print(\"Python\",platform.python_version())\n",
    "import skimage\n",
    "print(\"skimage\",skimage.__version__)\n",
    "import sklearn\n",
    "print(\"sklearn\",sklearn.__version__)\n",
    "import numpy\n",
    "print(\"numpy\",numpy.__version__)\n",
    "\n",
    "# TF 2.8.2\n",
    "# python 3.9\n",
    "# skimage < 0.19\n",
    "# sklearn < 1.0.0\n",
    "# numpy < 1.23\n"
   ]
  },
  {
   "cell_type": "code",
   "execution_count": null,
   "id": "becfed8e",
   "metadata": {
    "id": "becfed8e"
   },
   "outputs": [],
   "source": [
    "import os,sys\n",
    "\n",
    "if \"google.colab\" in sys.modules:\n",
    "    %pip install wget\n",
    "    \n",
    "import wget,zipfile\n",
    "\n",
    "if \"labsetup_run\" not in locals() or labsetup_run:\n",
    "\n",
    "    print(\"running setup ...\")\n",
    "\n",
    "    #if \"google.colab\" in sys.modules:\n",
    "    #    print(\"colab\")\n",
    "    #else:\n",
    "    #    print(\"local\")\n",
    "\n",
    "    # download data.zip from shared google drive\n",
    "    if not(os.path.isfile(\"data.zip\")): \n",
    "        filename=wget.download(\"https://drive.google.com/uc?export=download&confirm=yes&id=1dkSV2oL8Ua1SDmzVvtGkyQ0LGQ6VpUIy\")\n",
    "    # unpack it\n",
    "    if not(os.path.isdir(\"./data\")):\n",
    "        zf = zipfile.ZipFile(os.path.join(\".\",\"data.zip\"), \"r\")\n",
    "        zf.extractall()\n",
    "                          \n",
    "    # allow \"hot-reloading\" of modules\n",
    "    %load_ext autoreload\n",
    "    %autoreload 2\n",
    "    # needed for inline plots in some contexts\n",
    "    %matplotlib inline\n",
    "\n",
    "    labsetup_run = True  # change to True re-run setup\n",
    "else:\n",
    "    print(\"setup already run.\")"
   ]
  },
  {
   "cell_type": "code",
   "execution_count": null,
   "id": "24193011",
   "metadata": {
    "id": "24193011"
   },
   "outputs": [],
   "source": [
    "import numpy as np\n",
    "import pandas as pd\n",
    "\n",
    "path = \"./data/simpson_data\"\n",
    "X_train = np.load(os.path.join(path, \"X_train.npy\"))\n",
    "print(X_train.shape)\n"
   ]
  },
  {
   "cell_type": "code",
   "execution_count": null,
   "id": "b00af910",
   "metadata": {},
   "outputs": [],
   "source": []
  }
 ],
 "metadata": {
  "colab": {
   "provenance": []
  },
  "kernelspec": {
   "display_name": "Python 3 (ipykernel)",
   "language": "python",
   "name": "python3"
  },
  "language_info": {
   "codemirror_mode": {
    "name": "ipython",
    "version": 3
   },
   "file_extension": ".py",
   "mimetype": "text/x-python",
   "name": "python",
   "nbconvert_exporter": "python",
   "pygments_lexer": "ipython3",
   "version": "3.9.13"
  }
 },
 "nbformat": 4,
 "nbformat_minor": 5
}
